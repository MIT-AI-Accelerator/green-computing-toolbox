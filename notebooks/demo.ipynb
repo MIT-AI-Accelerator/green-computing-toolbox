{
 "cells": [
  {
   "cell_type": "code",
   "execution_count": null,
   "id": "50d72fed",
   "metadata": {},
   "outputs": [],
   "source": [
    "# Copyright (c) 2022 Massachusetts Institute of Technology\n",
    "# SPDX-License-Identifier: MIT"
   ]
  },
  {
   "cell_type": "code",
   "execution_count": 1,
   "id": "49a876ec",
   "metadata": {},
   "outputs": [],
   "source": [
    "data_dir         = \"/home/gridsan/groups/datasets/cifar-10\"\n",
    "executor_dir     = \"log_test\"\n",
    "slurm_partition  = \"gaia\"\n",
    "slurm_gres       = \"gpu:volta:1\"\n",
    "slurm_constraint = \"xeon-g6\"\n",
    "\n",
    "timeout_minutes = 10\n",
    "max_epochs = 10\n",
    "\n",
    "gpu_powers = [100,110,120,130,140,150]\n",
    "multirun=True"
   ]
  },
  {
   "cell_type": "code",
   "execution_count": 2,
   "id": "d8eb8cc5",
   "metadata": {},
   "outputs": [],
   "source": [
    "from powersweep import powersweep as ps\n",
    "from tse.tse import TrainingSpeedEstimator as TSE"
   ]
  },
  {
   "cell_type": "code",
   "execution_count": 3,
   "id": "dd59b47a",
   "metadata": {},
   "outputs": [],
   "source": [
    "import pytorch_lightning as pl\n",
    "import pandas as pd\n",
    "from pytorch_lightning import loggers as pl_loggers\n",
    "from hydra_zen import builds, make_config, MISSING, instantiate\n",
    "from omegaconf import DictConfig\n",
    "from torch.nn import Module\n",
    "import hydra_zen_example.image_classifier.configs as hzconfigs\n",
    "from hydra_zen_example.image_classifier.utils import set_seed"
   ]
  },
  {
   "cell_type": "code",
   "execution_count": 4,
   "id": "a14735b6",
   "metadata": {},
   "outputs": [],
   "source": [
    "slurm_cfg = builds(ps.SlurmConfig,\n",
    "                executor_dir=executor_dir,\n",
    "                slurm_partition=slurm_partition,\n",
    "                slurm_gres=slurm_gres,\n",
    "                slurm_constraint=slurm_constraint,\n",
    "                timeout_min=timeout_minutes,\n",
    "                zen_partial=True,\n",
    "                populate_full_signature=True,\n",
    "            )"
   ]
  },
  {
   "cell_type": "code",
   "execution_count": 5,
   "id": "61817340",
   "metadata": {},
   "outputs": [],
   "source": [
    "csv_logger = builds(pl_loggers.CSVLogger, save_dir=\"csv_logs\")\n",
    "\n",
    "TrainerConf = builds(\n",
    "    pl.Trainer,\n",
    "    accelerator='gpu',\n",
    "    max_epochs=50,\n",
    "    zen_partial=False,\n",
    "    enable_progress_bar=False,\n",
    "    enable_model_summary=False,\n",
    "    log_every_n_steps=1,\n",
    "    logger=csv_logger,\n",
    ")"
   ]
  },
  {
   "cell_type": "code",
   "execution_count": 6,
   "id": "26b34118",
   "metadata": {},
   "outputs": [],
   "source": [
    "task_cfg = make_config(\n",
    "    #\n",
    "    # Experiment Defaults: See https://hydra.cc/docs/next/advanced/defaults_list\n",
    "    defaults=[\n",
    "        \"_self_\",  # See https://hydra.cc/docs/upgrades/1.0_to_1.1/default_composition_order\n",
    "        {\"data\": \"cifar10\"},\n",
    "        {\"model\": \"resnet18\"},\n",
    "        {\"model/optim\": \"sgd\"},\n",
    "    ],\n",
    "    #\n",
    "    # Experiment Modules\n",
    "    data=MISSING,\n",
    "    model=MISSING,\n",
    "    trainer=TrainerConf,\n",
    "    #\n",
    "    # Experiment Constants\n",
    "    data_dir=data_dir,\n",
    "    random_seed=0,\n",
    "    testing=False,\n",
    "    ckpt_path=None,\n",
    ")"
   ]
  },
  {
   "cell_type": "code",
   "execution_count": 7,
   "id": "2040651e",
   "metadata": {},
   "outputs": [],
   "source": [
    "def task_fn(cfg: DictConfig) -> Module:\n",
    "    # Set seed BEFORE instantiating anything\n",
    "    set_seed(cfg.random_seed)\n",
    "\n",
    "    # Data and Lightning Modules\n",
    "    data = instantiate(cfg.data)\n",
    "    pl_module = instantiate(cfg.model)\n",
    "    \n",
    "    # The PL Trainer\n",
    "    trainer = instantiate(cfg.trainer)\n",
    "    \n",
    "    # Train on data\n",
    "    trainer.fit(pl_module, datamodule=data)\n",
    "    \n",
    "    return pl_module"
   ]
  },
  {
   "cell_type": "code",
   "execution_count": 8,
   "id": "0e35b8f6",
   "metadata": {},
   "outputs": [],
   "source": [
    "PS = ps.PowerSweep(task_cfg, task_fn, slurm_cfg, gpower=gpu_powers, multirun=multirun)"
   ]
  },
  {
   "cell_type": "code",
   "execution_count": 9,
   "id": "673b42e2",
   "metadata": {
    "scrolled": false
   },
   "outputs": [
    {
     "name": "stderr",
     "output_type": "stream",
     "text": [
      "/home/gridsan/MI25223/.conda/envs/mytemp/lib/python3.9/site-packages/hydra_zen/_launch.py:236: UserWarning: \n",
      "The version_base parameter is not specified.\n",
      "Please specify a compatability version level, or None.\n",
      "Will assume defaults for version 1.1\n",
      "  with initialize(\n"
     ]
    },
    {
     "name": "stdout",
     "output_type": "stream",
     "text": [
      "[2022-12-13 09:42:08,017][HYDRA] Launching 6 jobs locally\n",
      "[2022-12-13 09:42:08,018][HYDRA] \t#0 : model=resnet18 trainer.max_epochs=10 +gpower=100\n",
      "[2022-12-13 09:42:08,258][HYDRA] \t#1 : model=resnet18 trainer.max_epochs=10 +gpower=110\n"
     ]
    },
    {
     "name": "stderr",
     "output_type": "stream",
     "text": [
      "/home/gridsan/MI25223/.local/lib/python3.9/site-packages/hydra/_internal/core_plugins/basic_launcher.py:74: UserWarning: Future Hydra versions will no longer change working directory at job runtime by default.\n",
      "See https://hydra.cc/docs/next/upgrades/1.1_to_1.2/changes_to_job_working_dir/ for more information.\n",
      "  ret = run_job(\n"
     ]
    },
    {
     "name": "stdout",
     "output_type": "stream",
     "text": [
      "[2022-12-13 09:42:08,508][HYDRA] \t#2 : model=resnet18 trainer.max_epochs=10 +gpower=120\n"
     ]
    },
    {
     "name": "stderr",
     "output_type": "stream",
     "text": [
      "/home/gridsan/MI25223/.local/lib/python3.9/site-packages/hydra/_internal/core_plugins/basic_launcher.py:74: UserWarning: Future Hydra versions will no longer change working directory at job runtime by default.\n",
      "See https://hydra.cc/docs/next/upgrades/1.1_to_1.2/changes_to_job_working_dir/ for more information.\n",
      "  ret = run_job(\n"
     ]
    },
    {
     "name": "stdout",
     "output_type": "stream",
     "text": [
      "[2022-12-13 09:42:08,701][HYDRA] \t#3 : model=resnet18 trainer.max_epochs=10 +gpower=130\n"
     ]
    },
    {
     "name": "stderr",
     "output_type": "stream",
     "text": [
      "/home/gridsan/MI25223/.local/lib/python3.9/site-packages/hydra/_internal/core_plugins/basic_launcher.py:74: UserWarning: Future Hydra versions will no longer change working directory at job runtime by default.\n",
      "See https://hydra.cc/docs/next/upgrades/1.1_to_1.2/changes_to_job_working_dir/ for more information.\n",
      "  ret = run_job(\n",
      "/home/gridsan/MI25223/.local/lib/python3.9/site-packages/hydra/_internal/core_plugins/basic_launcher.py:74: UserWarning: Future Hydra versions will no longer change working directory at job runtime by default.\n",
      "See https://hydra.cc/docs/next/upgrades/1.1_to_1.2/changes_to_job_working_dir/ for more information.\n",
      "  ret = run_job(\n"
     ]
    },
    {
     "name": "stdout",
     "output_type": "stream",
     "text": [
      "[2022-12-13 09:42:08,898][HYDRA] \t#4 : model=resnet18 trainer.max_epochs=10 +gpower=140\n",
      "[2022-12-13 09:42:09,086][HYDRA] \t#5 : model=resnet18 trainer.max_epochs=10 +gpower=150\n"
     ]
    },
    {
     "name": "stderr",
     "output_type": "stream",
     "text": [
      "/home/gridsan/MI25223/.local/lib/python3.9/site-packages/hydra/_internal/core_plugins/basic_launcher.py:74: UserWarning: Future Hydra versions will no longer change working directory at job runtime by default.\n",
      "See https://hydra.cc/docs/next/upgrades/1.1_to_1.2/changes_to_job_working_dir/ for more information.\n",
      "  ret = run_job(\n",
      "/home/gridsan/MI25223/.local/lib/python3.9/site-packages/hydra/_internal/core_plugins/basic_launcher.py:74: UserWarning: Future Hydra versions will no longer change working directory at job runtime by default.\n",
      "See https://hydra.cc/docs/next/upgrades/1.1_to_1.2/changes_to_job_working_dir/ for more information.\n",
      "  ret = run_job(\n"
     ]
    },
    {
     "name": "stdout",
     "output_type": "stream",
     "text": [
      "Job states: ['UNKNOWN', 'UNKNOWN', 'UNKNOWN', 'UNKNOWN', 'UNKNOWN', 'UNKNOWN']\n",
      "Job states: ['RUNNING', 'RUNNING', 'RUNNING', 'RUNNING', 'RUNNING', 'RUNNING']\n",
      "Job states: ['RUNNING', 'RUNNING', 'RUNNING', 'RUNNING', 'RUNNING', 'RUNNING']\n",
      "Job states: ['RUNNING', 'RUNNING', 'RUNNING', 'RUNNING', 'RUNNING', 'RUNNING']\n",
      "Job states: ['RUNNING', 'RUNNING', 'RUNNING', 'RUNNING', 'RUNNING', 'RUNNING']\n",
      "Job states: ['RUNNING', 'RUNNING', 'RUNNING', 'RUNNING', 'RUNNING', 'RUNNING']\n",
      "Job states: ['RUNNING', 'RUNNING', 'RUNNING', 'RUNNING', 'RUNNING', 'RUNNING']\n",
      "Job states: ['RUNNING', 'RUNNING', 'RUNNING', 'RUNNING', 'RUNNING', 'RUNNING']\n",
      "Job states: ['RUNNING', 'RUNNING', 'RUNNING', 'RUNNING', 'RUNNING', 'RUNNING']\n",
      "Job states: ['RUNNING', 'RUNNING', 'RUNNING', 'RUNNING', 'RUNNING', 'RUNNING']\n",
      "Job states: ['RUNNING', 'RUNNING', 'RUNNING', 'RUNNING', 'RUNNING', 'RUNNING']\n",
      "Job states: ['RUNNING', 'RUNNING', 'RUNNING', 'RUNNING', 'RUNNING', 'RUNNING']\n",
      "Job states: ['RUNNING', 'RUNNING', 'RUNNING', 'RUNNING', 'RUNNING', 'RUNNING']\n",
      "Job states: ['RUNNING', 'RUNNING', 'RUNNING', 'RUNNING', 'RUNNING', 'RUNNING']\n",
      "Job states: ['RUNNING', 'RUNNING', 'RUNNING', 'RUNNING', 'RUNNING', 'RUNNING']\n",
      "Job states: ['RUNNING', 'RUNNING', 'RUNNING', 'RUNNING', 'RUNNING', 'RUNNING']\n",
      "Job states: ['RUNNING', 'RUNNING', 'RUNNING', 'RUNNING', 'RUNNING', 'RUNNING']\n",
      "Job states: ['RUNNING', 'RUNNING', 'RUNNING', 'RUNNING', 'RUNNING', 'RUNNING']\n",
      "Job states: ['RUNNING', 'RUNNING', 'RUNNING', 'RUNNING', 'RUNNING', 'RUNNING']\n",
      "Job states: ['RUNNING', 'RUNNING', 'RUNNING', 'RUNNING', 'RUNNING', 'RUNNING']\n",
      "Job states: ['RUNNING', 'RUNNING', 'RUNNING', 'RUNNING', 'RUNNING', 'RUNNING']\n",
      "Job states: ['RUNNING', 'RUNNING', 'RUNNING', 'RUNNING', 'RUNNING', 'RUNNING']\n",
      "Job states: ['RUNNING', 'RUNNING', 'RUNNING', 'RUNNING', 'RUNNING', 'RUNNING']\n",
      "Job states: ['RUNNING', 'RUNNING', 'RUNNING', 'RUNNING', 'RUNNING', 'RUNNING']\n",
      "Job states: ['RUNNING', 'RUNNING', 'RUNNING', 'RUNNING', 'RUNNING', 'RUNNING']\n",
      "Job states: ['RUNNING', 'RUNNING', 'RUNNING', 'RUNNING', 'RUNNING', 'RUNNING']\n",
      "Job states: ['RUNNING', 'RUNNING', 'RUNNING', 'RUNNING', 'RUNNING', 'RUNNING']\n",
      "Job states: ['RUNNING', 'RUNNING', 'RUNNING', 'RUNNING', 'RUNNING', 'RUNNING']\n",
      "Job states: ['RUNNING', 'RUNNING', 'RUNNING', 'RUNNING', 'RUNNING', 'RUNNING']\n",
      "Job states: ['RUNNING', 'RUNNING', 'RUNNING', 'RUNNING', 'RUNNING', 'RUNNING']\n",
      "Job states: ['RUNNING', 'RUNNING', 'RUNNING', 'RUNNING', 'RUNNING', 'RUNNING']\n",
      "Job states: ['RUNNING', 'RUNNING', 'RUNNING', 'RUNNING', 'RUNNING', 'RUNNING']\n",
      "Job states: ['RUNNING', 'RUNNING', 'RUNNING', 'RUNNING', 'RUNNING', 'RUNNING']\n",
      "Job states: ['RUNNING', 'RUNNING', 'RUNNING', 'RUNNING', 'RUNNING', 'RUNNING']\n",
      "Job states: ['RUNNING', 'RUNNING', 'RUNNING', 'RUNNING', 'RUNNING', 'RUNNING']\n",
      "Job states: ['RUNNING', 'RUNNING', 'RUNNING', 'RUNNING', 'RUNNING', 'RUNNING']\n",
      "Job states: ['RUNNING', 'RUNNING', 'RUNNING', 'RUNNING', 'RUNNING', 'RUNNING']\n",
      "Job states: ['RUNNING', 'RUNNING', 'RUNNING', 'RUNNING', 'RUNNING', 'RUNNING']\n",
      "Job states: ['RUNNING', 'RUNNING', 'RUNNING', 'RUNNING', 'RUNNING', 'RUNNING']\n",
      "Job states: ['RUNNING', 'RUNNING', 'RUNNING', 'RUNNING', 'RUNNING', 'COMPLETED']\n",
      "Job states: ['RUNNING', 'RUNNING', 'RUNNING', 'RUNNING', 'COMPLETED', 'COMPLETED']\n",
      "Job states: ['RUNNING', 'RUNNING', 'RUNNING', 'COMPLETED', 'COMPLETED', 'COMPLETED']\n",
      "Job states: ['RUNNING', 'RUNNING', 'COMPLETED', 'COMPLETED', 'COMPLETED', 'COMPLETED']\n",
      "Job states: ['RUNNING', 'RUNNING', 'COMPLETED', 'COMPLETED', 'COMPLETED', 'COMPLETED']\n",
      "Job states: ['RUNNING', 'RUNNING', 'COMPLETED', 'COMPLETED', 'COMPLETED', 'COMPLETED']\n",
      "Job states: ['RUNNING', 'COMPLETED', 'COMPLETED', 'COMPLETED', 'COMPLETED', 'COMPLETED']\n",
      "Job states: ['RUNNING', 'COMPLETED', 'COMPLETED', 'COMPLETED', 'COMPLETED', 'COMPLETED']\n",
      "Job states: ['RUNNING', 'COMPLETED', 'COMPLETED', 'COMPLETED', 'COMPLETED', 'COMPLETED']\n",
      "Job states: ['RUNNING', 'COMPLETED', 'COMPLETED', 'COMPLETED', 'COMPLETED', 'COMPLETED']\n",
      "Job states: ['RUNNING', 'COMPLETED', 'COMPLETED', 'COMPLETED', 'COMPLETED', 'COMPLETED']\n",
      "Job states: ['COMPLETED', 'COMPLETED', 'COMPLETED', 'COMPLETED', 'COMPLETED', 'COMPLETED']\n",
      "All jobs completed!\n"
     ]
    }
   ],
   "source": [
    "overrides=[\n",
    "        \"model=resnet18\",\n",
    "        f\"trainer.max_epochs={max_epochs}\",\n",
    "    ]\n",
    "job = PS.launch(overrides=overrides)"
   ]
  },
  {
   "cell_type": "code",
   "execution_count": 10,
   "id": "ebcf05b9",
   "metadata": {},
   "outputs": [],
   "source": [
    "tse = TSE()\n",
    "\n",
    "summary = []\n",
    "\n",
    "for j in job[0]:\n",
    "    # Record swept override parameters\n",
    "    model = j.overrides[0].split('=')[1]\n",
    "    optim = j.overrides[1].split('=')[1]\n",
    "    power = j.overrides[2].split('=')[1]\n",
    "    \n",
    "    working_dir = j.working_dir\n",
    "    csvfile = f\"{working_dir}/csv_logs/lightning_logs/version_0/metrics.csv\"\n",
    "\n",
    "    df = pd.read_csv(csvfile)\n",
    "    \n",
    "    df.rename(inplace=True, columns={'Train/Loss':'train_loss', 'Train/Accuracy':'train_acc_stp'})\n",
    "    \n",
    "    grad_measures, params, fhat, dL1, dL2 = tse.estimate_losscurve(df.loc[~df['train_loss'].isna()])\n",
    "    \n",
    "    tse_dict = tse.estimate(df, None, 10)\n",
    "        \n",
    "    sumdict = {'model':model, 'optimizer':optim, 'GPU power (W)':power, \n",
    "               'loss curve approx.':grad_measures['d1/sqrt(d2)_sum'],\n",
    "                'tse':tse_dict['tse'], 'tsee':tse_dict['tsee'], 'tsema':tse_dict['tseema']}\n",
    "    summary.append(sumdict)\n",
    "    \n",
    "summary = pd.DataFrame(summary)"
   ]
  },
  {
   "cell_type": "code",
   "execution_count": 11,
   "id": "6c2d77f3",
   "metadata": {},
   "outputs": [
    {
     "data": {
      "text/html": [
       "<div>\n",
       "<style scoped>\n",
       "    .dataframe tbody tr th:only-of-type {\n",
       "        vertical-align: middle;\n",
       "    }\n",
       "\n",
       "    .dataframe tbody tr th {\n",
       "        vertical-align: top;\n",
       "    }\n",
       "\n",
       "    .dataframe thead th {\n",
       "        text-align: right;\n",
       "    }\n",
       "</style>\n",
       "<table border=\"1\" class=\"dataframe\">\n",
       "  <thead>\n",
       "    <tr style=\"text-align: right;\">\n",
       "      <th></th>\n",
       "      <th>model</th>\n",
       "      <th>optimizer</th>\n",
       "      <th>GPU power (W)</th>\n",
       "      <th>loss curve approx.</th>\n",
       "      <th>tse</th>\n",
       "      <th>tsee</th>\n",
       "      <th>tsema</th>\n",
       "    </tr>\n",
       "  </thead>\n",
       "  <tbody>\n",
       "    <tr>\n",
       "      <th>4</th>\n",
       "      <td>resnet18</td>\n",
       "      <td>10</td>\n",
       "      <td>140</td>\n",
       "      <td>-0.573048</td>\n",
       "      <td>9.889643</td>\n",
       "      <td>0.0</td>\n",
       "      <td>9.822310</td>\n",
       "    </tr>\n",
       "    <tr>\n",
       "      <th>5</th>\n",
       "      <td>resnet18</td>\n",
       "      <td>10</td>\n",
       "      <td>150</td>\n",
       "      <td>-0.527951</td>\n",
       "      <td>9.810785</td>\n",
       "      <td>0.0</td>\n",
       "      <td>9.744312</td>\n",
       "    </tr>\n",
       "    <tr>\n",
       "      <th>2</th>\n",
       "      <td>resnet18</td>\n",
       "      <td>10</td>\n",
       "      <td>120</td>\n",
       "      <td>-0.540024</td>\n",
       "      <td>9.760680</td>\n",
       "      <td>0.0</td>\n",
       "      <td>9.694187</td>\n",
       "    </tr>\n",
       "    <tr>\n",
       "      <th>1</th>\n",
       "      <td>resnet18</td>\n",
       "      <td>10</td>\n",
       "      <td>110</td>\n",
       "      <td>-0.523411</td>\n",
       "      <td>9.732961</td>\n",
       "      <td>0.0</td>\n",
       "      <td>9.666933</td>\n",
       "    </tr>\n",
       "    <tr>\n",
       "      <th>3</th>\n",
       "      <td>resnet18</td>\n",
       "      <td>10</td>\n",
       "      <td>130</td>\n",
       "      <td>-0.545779</td>\n",
       "      <td>9.694935</td>\n",
       "      <td>0.0</td>\n",
       "      <td>9.629042</td>\n",
       "    </tr>\n",
       "    <tr>\n",
       "      <th>0</th>\n",
       "      <td>resnet18</td>\n",
       "      <td>10</td>\n",
       "      <td>100</td>\n",
       "      <td>-0.528312</td>\n",
       "      <td>9.526445</td>\n",
       "      <td>0.0</td>\n",
       "      <td>9.461528</td>\n",
       "    </tr>\n",
       "  </tbody>\n",
       "</table>\n",
       "</div>"
      ],
      "text/plain": [
       "      model optimizer GPU power (W)  loss curve approx.       tse  tsee  \\\n",
       "4  resnet18        10           140           -0.573048  9.889643   0.0   \n",
       "5  resnet18        10           150           -0.527951  9.810785   0.0   \n",
       "2  resnet18        10           120           -0.540024  9.760680   0.0   \n",
       "1  resnet18        10           110           -0.523411  9.732961   0.0   \n",
       "3  resnet18        10           130           -0.545779  9.694935   0.0   \n",
       "0  resnet18        10           100           -0.528312  9.526445   0.0   \n",
       "\n",
       "      tsema  \n",
       "4  9.822310  \n",
       "5  9.744312  \n",
       "2  9.694187  \n",
       "1  9.666933  \n",
       "3  9.629042  \n",
       "0  9.461528  "
      ]
     },
     "execution_count": 11,
     "metadata": {},
     "output_type": "execute_result"
    }
   ],
   "source": [
    "summary.sort_values(by='tse', ascending=False)"
   ]
  }
 ],
 "metadata": {
  "hide_input": false,
  "kernelspec": {
   "display_name": "Python 3 (ipykernel)",
   "language": "python",
   "name": "python3"
  },
  "language_info": {
   "codemirror_mode": {
    "name": "ipython",
    "version": 3
   },
   "file_extension": ".py",
   "mimetype": "text/x-python",
   "name": "python",
   "nbconvert_exporter": "python",
   "pygments_lexer": "ipython3",
   "version": "3.8.13"
  },
  "latex_envs": {
   "LaTeX_envs_menu_present": true,
   "autoclose": false,
   "autocomplete": true,
   "bibliofile": "biblio.bib",
   "cite_by": "apalike",
   "current_citInitial": 1,
   "eqLabelWithNumbers": true,
   "eqNumInitial": 1,
   "hotkeys": {
    "equation": "Ctrl-E",
    "itemize": "Ctrl-I"
   },
   "labels_anchors": false,
   "latex_user_defs": false,
   "report_style_numbering": false,
   "user_envs_cfg": false
  },
  "toc": {
   "base_numbering": 1,
   "nav_menu": {},
   "number_sections": true,
   "sideBar": true,
   "skip_h1_title": false,
   "title_cell": "Table of Contents",
   "title_sidebar": "Contents",
   "toc_cell": false,
   "toc_position": {},
   "toc_section_display": true,
   "toc_window_display": false
  },
  "varInspector": {
   "cols": {
    "lenName": 16,
    "lenType": 16,
    "lenVar": 40
   },
   "kernels_config": {
    "python": {
     "delete_cmd_postfix": "",
     "delete_cmd_prefix": "del ",
     "library": "var_list.py",
     "varRefreshCmd": "print(var_dic_list())"
    },
    "r": {
     "delete_cmd_postfix": ") ",
     "delete_cmd_prefix": "rm(",
     "library": "var_list.r",
     "varRefreshCmd": "cat(var_dic_list()) "
    }
   },
   "types_to_exclude": [
    "module",
    "function",
    "builtin_function_or_method",
    "instance",
    "_Feature"
   ],
   "window_display": false
  },
  "vscode": {
   "interpreter": {
    "hash": "afceb0e3d8287cf82dd2f98c376a47eddfcd394eff2f2fce059c67e522cceb5a"
   }
  }
 },
 "nbformat": 4,
 "nbformat_minor": 5
}
